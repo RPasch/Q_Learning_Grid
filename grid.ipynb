{
 "cells": [
  {
   "cell_type": "code",
   "execution_count": 52,
   "metadata": {},
   "outputs": [],
   "source": [
    "import matplotlib.pyplot as plt\n",
    "import numpy as np\n",
    "import pandas as pd\n",
    "import seaborn as sns\n",
    "plt.style.use('dark_background')\n"
   ]
  },
  {
   "cell_type": "code",
   "execution_count": 113,
   "metadata": {},
   "outputs": [],
   "source": [
    "class Environment:\n",
    "    \"\"\"\n",
    "    initialize the grid world environemnt\n",
    "    \"\"\"\n",
    "    def __init__(self, height=7, width=7):\n",
    "        \n",
    "        # setting up the grid world\n",
    "        self.height = height\n",
    "        self.width = width\n",
    "        self.rewards = np.zeros((self.height, self.width)) - 1\n",
    "        self.rewards[0,0] = 20\n",
    "        \n",
    "        # set random start state (or location) for the agent\n",
    "        self.current_state = (self.height-1, 0)\n",
    "        \n",
    "        # set states (or locations) for the bomb and the gold\n",
    "        self.gold_state = (0,0)\n",
    "        self.terminal_states = [self.gold_state]\n",
    "        self.obstacle = [(2,0),(2,1),(2,2),(2,3),(2,4),(2,5)]\n",
    "        # set grid rewards for bomb and gold states\n",
    "        \n",
    "        # the set of available actions\n",
    "        self.actions = ['UP', 'DOWN', 'LEFT', 'RIGHT']   \n",
    "        \n",
    "    def get_actions(self):\n",
    "        \"\"\"\n",
    "        return the set of actions (A)\n",
    "        \"\"\"\n",
    "        return self.actions\n",
    "    \n",
    "    def get_agent_location(self):\n",
    "        \"\"\"\n",
    "        returns the current location of the agent marked on the grid world as ``1''\n",
    "        \"\"\"\n",
    "        grid_world = np.zeros((self.height, self.width))\n",
    "        grid_world[self.current_state[0], self.current_state[1]] = 1\n",
    "        return grid_world\n",
    "    \n",
    "    def get_reward(self, state):\n",
    "        \"\"\"\n",
    "        returns the reward for the input state\n",
    "        \"\"\"\n",
    "        return self.rewards[state[0], state[1]]\n",
    "        \n",
    "    \n",
    "    def delta(self, action):\n",
    "        \"\"\"\n",
    "        moves the agent in the specified direction: if agent is at a border then it stays still\n",
    "        but takes negative reward and the function returns the immediate reward for the action\n",
    "        \"\"\"\n",
    "        # store the location before taking action\n",
    "        last_state = self.current_state\n",
    "        \n",
    "        # move UP\n",
    "        if action == 'UP':\n",
    "            # if the agent is at the top border, stay still, collect negative reward\n",
    "            new_pos = (last_state[0]-1,last_state[1])\n",
    "            if new_pos in self.obstacle:\n",
    "                reward = self.get_reward(last_state)\n",
    "            elif last_state[0] == 0:\n",
    "                reward = self.get_reward(last_state)\n",
    "            else:\n",
    "                self.current_state = (self.current_state[0] - 1, self.current_state[1])\n",
    "                reward = self.get_reward(self.current_state)\n",
    "                \n",
    "        # move DOWN\n",
    "        elif action == 'DOWN':\n",
    "            new_pos = (last_state[0] +1,last_state[1])\n",
    "            # if the agent is at the bottom border, stay still, collect negative reward\n",
    "            if new_pos in self.obstacle:\n",
    "                reward = self.get_reward(last_state)\n",
    "            elif last_state[0] == self.height - 1:\n",
    "                reward = self.get_reward(last_state)\n",
    "            else:\n",
    "                self.current_state = (self.current_state[0] + 1, self.current_state[1])\n",
    "                reward = self.get_reward(self.current_state)\n",
    "            \n",
    "        # move LEFT\n",
    "        elif action == 'LEFT':\n",
    "            new_pos = (last_state[0],last_state[1]-1)\n",
    "\n",
    "            # if the agent is at the left border, stay still, collect negative reward\n",
    "            if new_pos in self.obstacle:\n",
    "                reward = self.get_reward(last_state)\n",
    "            elif last_state[1] == 0:\n",
    "                reward = self.get_reward(last_state)\n",
    "            else:\n",
    "                self.current_state = (self.current_state[0], self.current_state[1] - 1)\n",
    "                reward = self.get_reward(self.current_state)\n",
    "\n",
    "        # move RIGHT\n",
    "        elif action == 'RIGHT':\n",
    "            # of the agent is at the right border, stay still, collect negative reward\n",
    "            new_pos = (last_state[0],last_state[1]+1)\n",
    "            if new_pos in self.obstacle:\n",
    "                reward = self.get_reward(last_state)\n",
    "            elif last_state[1] == self.width - 1:\n",
    "                reward = self.get_reward(last_state)\n",
    "            else:\n",
    "                self.current_state = (self.current_state[0], self.current_state[1] + 1)\n",
    "                reward = self.get_reward(self.current_state)\n",
    "\n",
    "        return reward\n",
    "    \n",
    "    def check_state(self):\n",
    "        \"\"\"\n",
    "        check if the agent is in a terminal state (gold or bomb):\n",
    "        if so return 'TERMINAL', otherwise return 'NONTERMINAL'\n",
    "        \"\"\"\n",
    "        current_state_type = 'NONTERMINAL'\n",
    "        if self.current_state in self.terminal_states:\n",
    "            current_state_type ='TERMINAL'\n",
    "        \n",
    "        return current_state_type"
   ]
  },
  {
   "cell_type": "code",
   "execution_count": 271,
   "metadata": {},
   "outputs": [],
   "source": [
    "class RandomAgent:\n",
    "    def __init__(self):\n",
    "        np.random.seed(7)\n",
    "        self.time = -1\n",
    "    # select a random action\n",
    "    def select_action(self, actions,state):\n",
    "        \"\"\"\n",
    "        returns a random action\n",
    "        \"\"\"\n",
    "        self.time += 1 \n",
    "        return np.random.choice(actions)  \n",
    "    def reset(self):\n",
    "        self.time = -1\n",
    "        return"
   ]
  },
  {
   "cell_type": "code",
   "execution_count": 272,
   "metadata": {},
   "outputs": [],
   "source": [
    "class optimalPath:\n",
    "    def __init__(self):\n",
    "        self.choices = ['RIGHT','RIGHT','RIGHT','RIGHT','RIGHT','RIGHT','UP','UP','UP','UP','UP','UP','LEFT','LEFT','LEFT','LEFT','LEFT','LEFT']\n",
    "        self.time = -1\n",
    "    # select a random action\n",
    "    def select_action(self, actions,state):\n",
    "        \"\"\"\n",
    "        returns a random action\n",
    "        \"\"\"\n",
    "        self.time += 1\n",
    "        return self.choices[self.time]\n",
    "    def reset(self):\n",
    "        self.time = -1\n",
    "        return"
   ]
  },
  {
   "cell_type": "code",
   "execution_count": 287,
   "metadata": {},
   "outputs": [],
   "source": [
    "class QLearningAgentDet:\n",
    "    def __init__(self, epsilon=0, gamma=1):\n",
    "        \"\"\"\n",
    "        initialises the Deterministic Q-Learning Agent\n",
    "        \"\"\"\n",
    "        self.time = -1\n",
    "        np.random.seed(7)\n",
    "        qs = [[20., 19., 18., 17, 16, 15, 14],\n",
    "       [19, 18., 17, 16, 15, 14, 13],\n",
    "       [ 0.,  0.,  0.,  0.,  0.,  0., 12],\n",
    "       [5, 6, 7, 8, 9, 10, 11],\n",
    "       [4, 5, 6, 7, 8, 9, 10],\n",
    "       [3, 4, 5, 6, 7, 8, 9],\n",
    "       [2, 3, 4, 5, 6, 7, 8]]\n",
    "        self.Qs = np.pad(qs, 1, mode='constant')\n",
    "        self.Q = dict() # store all Q-values in dictionary of dictionaries \n",
    "        for x in range(7): # loop through all possible grid spaces, create sub-dictionary for each grid\n",
    "            for y in range(7):\n",
    "                self.Q[(x,y)] = {'UP':self.Qs[(x,y+1)], 'DOWN':self.Qs[(x+2,y+1)], 'LEFT':self.Qs[(x+1,y)], 'RIGHT':self.Qs[(x+1,y+2)]} # populate sub-dictionary with zero values for possible moves\n",
    "        \n",
    "        self.epsilon = epsilon\n",
    "        self.gamma = gamma\n",
    "    def select_action(self, actions,current_state):\n",
    "        \"\"\"\n",
    "        returns the optimal action from the Q-table. if multiple optimal actions, chooses random choice.\n",
    "        will make an exploratory random action dependent on epsilon.\n",
    "        \"\"\"\n",
    "        self.time += 1\n",
    "        if np.random.uniform(0,1) < self.epsilon:\n",
    "            action = actions[np.random.randint(0, len(actions))]\n",
    "        else:\n",
    "            Q_state = self.Q[current_state]\n",
    "            Q_state_max = max(Q_state.values())\n",
    "            action = np.random.choice([k for k, v in Q_state.items() if v == Q_state_max])            \n",
    "        return action\n",
    "    \n",
    "    def update(self, current_state, reward, new_state, action):\n",
    "        \"\"\"\n",
    "        updates the Q-values using Q-learning\n",
    "        \"\"\"\n",
    "        Q_new_state = self.Q[new_state]        \n",
    "        Q_new_state_max = max(Q_new_state.values())\n",
    "        self.Q[current_state][action] = reward + self.gamma * Q_new_state_max\n",
    "        \n",
    "    def reset(self):\n",
    "        self.time = -1\n",
    "        return"
   ]
  },
  {
   "cell_type": "code",
   "execution_count": 288,
   "metadata": {},
   "outputs": [
    {
     "data": {
      "text/plain": [
       "([3.0],\n",
       " [(6, 0),\n",
       "  (6, 1),\n",
       "  (6, 2),\n",
       "  (5, 2),\n",
       "  (5, 3),\n",
       "  (4, 3),\n",
       "  (3, 3),\n",
       "  (3, 4),\n",
       "  (3, 5),\n",
       "  (3, 6),\n",
       "  (2, 6),\n",
       "  (1, 6),\n",
       "  (1, 5),\n",
       "  (1, 4),\n",
       "  (0, 4),\n",
       "  (0, 3),\n",
       "  (0, 2),\n",
       "  (0, 1),\n",
       "  (0, 0)])"
      ]
     },
     "execution_count": 288,
     "metadata": {},
     "output_type": "execute_result"
    }
   ],
   "source": [
    "def learn(agent, gamma=1.0, num_episodes=1, max_steps_per_episode=50, update_Q=False):\n",
    "    \"\"\"\n",
    "    the learn function plays episodes and updates Q-values\n",
    "    \"\"\"\n",
    "    np.random.seed(7)\n",
    "    path = []\n",
    "    reward_per_episode = [] # initialise performance log    \n",
    "    for episode in range(num_episodes): # run episodes\n",
    "        environment = Environment()\n",
    "        cumulative_reward = 0 # initialise cumulative reward of each episode\n",
    "        step = 0\n",
    "        episode_over = False\n",
    "        path = [(6,0)]\n",
    "        while step < max_steps_per_episode and episode_over != True: # run until max steps or until episode is over\n",
    "            current_state = environment.current_state\n",
    "            action = agent.select_action(environment.actions,current_state) \n",
    "            reward = environment.delta(action)\n",
    "            new_state = environment.current_state\n",
    "            path.append(new_state)\n",
    "            if update_Q == True: # update Q-values if learning is specified\n",
    "                agent.update(current_state, reward, new_state, action)\n",
    "                \n",
    "            cumulative_reward += reward * (gamma**step)\n",
    "            step += 1\n",
    "            if environment.check_state() == 'TERMINAL': # if agent is in terminal state, the episode is over and start the next episode\n",
    "                agent.reset()\n",
    "                environment.__init__()\n",
    "                episode_over = True\n",
    "        reward_per_episode.append(cumulative_reward) # Append reward for current trial to performance log\n",
    "        \n",
    "    return reward_per_episode,path # return episode log\n",
    "learn(QLearningAgentDet(),num_episodes = 1)"
   ]
  },
  {
   "cell_type": "code",
   "execution_count": 278,
   "metadata": {},
   "outputs": [
    {
     "name": "stdout",
     "output_type": "stream",
     "text": [
      "optimal rewards:  3.0 [3.0, 3.0, 3.0, 3.0, 3.0, 3.0, 3.0, 3.0, 3.0, 3.0, 3.0, 3.0, 3.0, 3.0, 3.0, 3.0, 3.0, 3.0, 3.0, 3.0] \n",
      " random rewards:  -50.0 [-50.0, -50.0, -50.0, -50.0, -50.0, -50.0, -50.0, -50.0, -50.0, -50.0, -50.0, -50.0, -50.0, -50.0, -50.0, -50.0, -50.0, -50.0, -50.0, -50.0] \n",
      " greedy rewards:  3.0 [3.0, 3.0, 3.0, 3.0, 3.0, 3.0, 3.0, 3.0, 3.0, 3.0, 3.0, 3.0, 3.0, 3.0, 3.0, 3.0, 3.0, 3.0, 3.0, 3.0]\n"
     ]
    },
    {
     "data": {
      "text/html": [
       "<div>\n",
       "<style scoped>\n",
       "    .dataframe tbody tr th:only-of-type {\n",
       "        vertical-align: middle;\n",
       "    }\n",
       "\n",
       "    .dataframe tbody tr th {\n",
       "        vertical-align: top;\n",
       "    }\n",
       "\n",
       "    .dataframe thead th {\n",
       "        text-align: right;\n",
       "    }\n",
       "</style>\n",
       "<table border=\"1\" class=\"dataframe\">\n",
       "  <thead>\n",
       "    <tr style=\"text-align: right;\">\n",
       "      <th></th>\n",
       "      <th>Optimal</th>\n",
       "      <th>Random</th>\n",
       "      <th>Greedy</th>\n",
       "    </tr>\n",
       "  </thead>\n",
       "  <tbody>\n",
       "    <tr>\n",
       "      <th>0</th>\n",
       "      <td>3.0</td>\n",
       "      <td>-50.0</td>\n",
       "      <td>3.0</td>\n",
       "    </tr>\n",
       "    <tr>\n",
       "      <th>1</th>\n",
       "      <td>3.0</td>\n",
       "      <td>-50.0</td>\n",
       "      <td>3.0</td>\n",
       "    </tr>\n",
       "    <tr>\n",
       "      <th>2</th>\n",
       "      <td>3.0</td>\n",
       "      <td>-50.0</td>\n",
       "      <td>3.0</td>\n",
       "    </tr>\n",
       "    <tr>\n",
       "      <th>3</th>\n",
       "      <td>3.0</td>\n",
       "      <td>-50.0</td>\n",
       "      <td>3.0</td>\n",
       "    </tr>\n",
       "    <tr>\n",
       "      <th>4</th>\n",
       "      <td>3.0</td>\n",
       "      <td>-50.0</td>\n",
       "      <td>3.0</td>\n",
       "    </tr>\n",
       "  </tbody>\n",
       "</table>\n",
       "</div>"
      ],
      "text/plain": [
       "   Optimal  Random  Greedy\n",
       "0      3.0   -50.0     3.0\n",
       "1      3.0   -50.0     3.0\n",
       "2      3.0   -50.0     3.0\n",
       "3      3.0   -50.0     3.0\n",
       "4      3.0   -50.0     3.0"
      ]
     },
     "execution_count": 278,
     "metadata": {},
     "output_type": "execute_result"
    }
   ],
   "source": [
    "greedy_agent = QLearningAgentDet()\n",
    "ran_agent = RandomAgent()\n",
    "opt_agent = optimalPath()\n",
    "iters  = 20\n",
    "optimal_episode,opt_path = learn( opt_agent, num_episodes = iters)\n",
    "ran_episode,ran_path = learn( ran_agent, num_episodes = iters)\n",
    "greedy_episode, gre_path = learn(greedy_agent,num_episodes = iters)\n",
    "print('optimal rewards: ',sum(optimal_episode)/20,optimal_episode,'\\n random rewards: ',sum(ran_episode)/20,ran_episode,'\\n greedy rewards: ',sum(greedy_episode)/20,greedy_episode)\n",
    "rewards_df = pd.DataFrame(columns = ['Optimal','Random','Greedy'])\n",
    "rewards_df['Optimal'] = optimal_episode\n",
    "rewards_df['Random'] = ran_episode\n",
    "rewards_df['Greedy'] = greedy_episode\n",
    "rewards_df.head()"
   ]
  },
  {
   "cell_type": "code",
   "execution_count": null,
   "metadata": {},
   "outputs": [],
   "source": []
  },
  {
   "cell_type": "code",
   "execution_count": 279,
   "metadata": {},
   "outputs": [
    {
     "data": {
      "text/plain": [
       "Text(0.5,1,'Average Acc Return')"
      ]
     },
     "execution_count": 279,
     "metadata": {},
     "output_type": "execute_result"
    },
    {
     "data": {
      "image/png": "[encoded data removed]",
      "text/plain": [
       "<Figure size 864x864 with 1 Axes>"
      ]
     },
     "metadata": {},
     "output_type": "display_data"
    }
   ],
   "source": [
    "\n",
    "plt.figure(figsize = (12,12))\n",
    "sns.barplot(data = rewards_df ).set_title('Average Acc Return')\n"
   ]
  },
  {
   "cell_type": "code",
   "execution_count": 234,
   "metadata": {},
   "outputs": [
    {
     "name": "stdout",
     "output_type": "stream",
     "text": [
      "[(6, 0), (6, 1), (5, 1), (6, 1), (6, 0), (6, 1), (6, 2), (6, 3), (6, 4), (5, 4), (6, 4), (6, 3), (6, 4), (5, 4), (6, 4), (6, 3), (6, 2), (6, 1), (5, 1), (5, 2), (5, 1), (4, 1), (3, 1), (3, 2), (3, 3), (3, 3), (3, 3), (3, 4), (3, 5), (3, 4), (3, 3), (3, 4), (3, 4), (3, 4), (3, 5), (4, 5), (3, 5), (3, 5), (3, 6), (4, 6), (3, 6), (3, 6), (4, 6), (3, 6), (3, 5), (3, 5), (4, 5), (4, 4), (4, 3), (3, 3), (3, 2)]\n"
     ]
    }
   ],
   "source": [
    "print(ran_path)"
   ]
  },
  {
   "cell_type": "code",
   "execution_count": 290,
   "metadata": {},
   "outputs": [],
   "source": [
    "\n",
    "from PIL import Image, ImageDraw\n",
    "\n",
    "if __name__ == '__main__':\n",
    "    height = 700\n",
    "    width = 700\n",
    "    image = Image.new(mode='RGB', size=(height, width), color=(255,255,255))\n",
    "\n",
    "    # Draw some lines\n",
    "    draw = ImageDraw.Draw(image)\n",
    "    y_start = 0\n",
    "    y_end = image.height\n",
    "    step_size = int(image.width / 7)\n",
    "\n",
    "    for x in range(0, image.width, step_size):\n",
    "        line = ((x, y_start), (x, y_end))\n",
    "        draw.line(line, fill=128)\n",
    "\n",
    "    x_start = 0\n",
    "    x_end = image.width\n",
    "\n",
    "# draw text, half opacity\n",
    "\n",
    "    for y in range(0, image.height, step_size):\n",
    "        line = ((x_start, y), (x_end, y))\n",
    "        draw.line(line, fill=128)\n",
    "    for i,state in enumerate(opt_path[:-1]):\n",
    "        line = ((state[1]*100+50,state[0]*100+50),(opt_path[i+1][1]*100+50,opt_path[i+1][0]*100+50))\n",
    "        draw.line(line,fill='red',width = 10)\n",
    "        draw.text((state[1]*100+i,state[0]*100+20+i),str(i),fill='red')\n",
    "    for i,state in enumerate(gre_path[:-1]):\n",
    "        line = ((state[1]*100+40,state[0]*100+40),(gre_path[i+1][1]*100+40,gre_path[i+1][0]*100+40))\n",
    "        draw.line(line,fill='green',width = 10)\n",
    "        draw.text((state[1]*100+10+i,state[0]*100+10+i),str(i),fill='green')\n",
    "    for i,state in enumerate(ran_path[:-1]):\n",
    "        line = ((state[1]*100+30,state[0]*100+30),(ran_path[i+1][1]*100+30,ran_path[i+1][0]*100+30))\n",
    "        draw.line(line,fill='blue',width = 5)\n",
    "        ii = str(i)+' '\n",
    "        draw.text((state[1]*100,state[0]*100),ii,fill = 'blue')\n",
    "    #draw.line(((0,0),(600,600)),fill=128,width = 10)\n",
    "    draw.line(((0,250),(600,250)),fill = 'black',width = 100)\n",
    "    draw.text((0,0),'Optimal Path',fill='red')\n",
    "    draw.text((0,20),'Random Path',fill='blue')\n",
    "    draw.text((0,40),'Greedy Path',fill='green')\n",
    "    del draw\n",
    "\n",
    "    image.save('Path_Taken.jpeg')"
   ]
  },
  {
   "cell_type": "code",
   "execution_count": 230,
   "metadata": {},
   "outputs": [
    {
     "data": {
      "text/plain": [
       "\u001b[1;31mSignature:\u001b[0m \u001b[0mImage\u001b[0m\u001b[1;33m.\u001b[0m\u001b[0mnew\u001b[0m\u001b[1;33m(\u001b[0m\u001b[0mmode\u001b[0m\u001b[1;33m,\u001b[0m \u001b[0msize\u001b[0m\u001b[1;33m,\u001b[0m \u001b[0mcolor\u001b[0m\u001b[1;33m=\u001b[0m\u001b[1;36m0\u001b[0m\u001b[1;33m)\u001b[0m\u001b[1;33m\u001b[0m\u001b[0m\n",
       "\u001b[1;31mDocstring:\u001b[0m\n",
       "Creates a new image with the given mode and size.\n",
       "\n",
       ":param mode: The mode to use for the new image. See:\n",
       "   :ref:`concept-modes`.\n",
       ":param size: A 2-tuple, containing (width, height) in pixels.\n",
       ":param color: What color to use for the image.  Default is black.\n",
       "   If given, this should be a single integer or floating point value\n",
       "   for single-band modes, and a tuple for multi-band modes (one value\n",
       "   per band).  When creating RGB images, you can also use color\n",
       "   strings as supported by the ImageColor module.  If the color is\n",
       "   None, the image is not initialised.\n",
       ":returns: An :py:class:`~PIL.Image.Image` object.\n",
       "\u001b[1;31mFile:\u001b[0m      c:\\users\\user\\anaconda3\\lib\\site-packages\\pil\\image.py\n",
       "\u001b[1;31mType:\u001b[0m      function\n"
      ]
     },
     "metadata": {},
     "output_type": "display_data"
    }
   ],
   "source": [
    "image = Image.new?\n",
    "#(mode='L', size=(height, width), color=255)\n",
    "\n",
    "    # Draw some lines\n",
    "#draw = ImageDraw.Draw?\n"
   ]
  },
  {
   "cell_type": "code",
   "execution_count": 261,
   "metadata": {},
   "outputs": [
    {
     "data": {
      "text/plain": [
       "array([[20., -1., -1., -1., -1., -1., -1.],\n",
       "       [-1., -1., -1., -1., -1., -1., -1.],\n",
       "       [ 0.,  0.,  0.,  0.,  0.,  0., -1.],\n",
       "       [-1., -1., -1., -1., -1., -1., -1.],\n",
       "       [-1., -1., -1., -1., -1., -1., -1.],\n",
       "       [-1., -1., -1., -1., -1., -1., -1.],\n",
       "       [-1., -1., -1., -1., -1., -1., -1.]])"
      ]
     },
     "execution_count": 261,
     "metadata": {},
     "output_type": "execute_result"
    }
   ],
   "source": [
    "x = np.zeros((7,7))-1\n",
    "x[0,0] = 20\n",
    "x[2,0:6] = 0\n",
    "x"
   ]
  },
  {
   "cell_type": "code",
   "execution_count": 263,
   "metadata": {},
   "outputs": [],
   "source": [
    "xx = [[20., 19., 18., 17, 16, 15, 14],\n",
    "       [19, 18., 17, 16, 15, 14, 13],\n",
    "       [ 0.,  0.,  0.,  0.,  0.,  0., 12],\n",
    "       [5, 6, 7, 8, 9, 10, 11],\n",
    "       [4, 5, 6, 7, 8, 9, 10],\n",
    "       [3, 4, 5, 6, 7, 8, 9],\n",
    "       [2, 3, 4, 5, 6, 7, 8]]"
   ]
  },
  {
   "cell_type": "code",
   "execution_count": 265,
   "metadata": {},
   "outputs": [],
   "source": [
    "xx_pad = np.pad(xx, 1, mode='constant')"
   ]
  },
  {
   "cell_type": "code",
   "execution_count": 266,
   "metadata": {},
   "outputs": [
    {
     "data": {
      "text/plain": [
       "array([[ 0.,  0.,  0.,  0.,  0.,  0.,  0.,  0.,  0.],\n",
       "       [ 0., 20., 19., 18., 17., 16., 15., 14.,  0.],\n",
       "       [ 0., 19., 18., 17., 16., 15., 14., 13.,  0.],\n",
       "       [ 0.,  0.,  0.,  0.,  0.,  0.,  0., 12.,  0.],\n",
       "       [ 0.,  5.,  6.,  7.,  8.,  9., 10., 11.,  0.],\n",
       "       [ 0.,  4.,  5.,  6.,  7.,  8.,  9., 10.,  0.],\n",
       "       [ 0.,  3.,  4.,  5.,  6.,  7.,  8.,  9.,  0.],\n",
       "       [ 0.,  2.,  3.,  4.,  5.,  6.,  7.,  8.,  0.],\n",
       "       [ 0.,  0.,  0.,  0.,  0.,  0.,  0.,  0.,  0.]])"
      ]
     },
     "execution_count": 266,
     "metadata": {},
     "output_type": "execute_result"
    }
   ],
   "source": [
    "xx_pad"
   ]
  },
  {
   "cell_type": "code",
   "execution_count": null,
   "metadata": {},
   "outputs": [],
   "source": []
  }
 ],
 "metadata": {
  "kernelspec": {
   "display_name": "Python 3",
   "language": "python",
   "name": "python3"
  },
  "language_info": {
   "codemirror_mode": {
    "name": "ipython",
    "version": 3
   },
   "file_extension": ".py",
   "mimetype": "text/x-python",
   "name": "python",
   "nbconvert_exporter": "python",
   "pygments_lexer": "ipython3",
   "version": "3.6.4"
  }
 },
 "nbformat": 4,
 "nbformat_minor": 2
}
